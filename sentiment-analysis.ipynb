{
 "cells": [
  {
   "cell_type": "code",
   "execution_count": 2,
   "id": "be27216e",
   "metadata": {
    "execution": {
     "iopub.execute_input": "2024-05-21T07:54:17.888636Z",
     "iopub.status.busy": "2024-05-21T07:54:17.887652Z",
     "iopub.status.idle": "2024-05-21T07:54:42.829280Z",
     "shell.execute_reply": "2024-05-21T07:54:42.828069Z"
    },
    "papermill": {
     "duration": 24.952546,
     "end_time": "2024-05-21T07:54:42.832058",
     "exception": false,
     "start_time": "2024-05-21T07:54:17.879512",
     "status": "completed"
    },
    "tags": []
   },
   "outputs": [
    {
     "name": "stdout",
     "output_type": "stream",
     "text": [
      "Collecting en-core-web-md==3.7.1\r\n",
      "  Downloading https://github.com/explosion/spacy-models/releases/download/en_core_web_md-3.7.1/en_core_web_md-3.7.1-py3-none-any.whl (42.8 MB)\r\n",
      "\u001b[2K     \u001b[90m━━━━━━━━━━━━━━━━━━━━━━━━━━━━━━━━━━━━━━━━\u001b[0m \u001b[32m42.8/42.8 MB\u001b[0m \u001b[31m35.3 MB/s\u001b[0m eta \u001b[36m0:00:00\u001b[0m\r\n",
      "\u001b[?25hRequirement already satisfied: spacy<3.8.0,>=3.7.2 in /opt/conda/lib/python3.10/site-packages (from en-core-web-md==3.7.1) (3.7.3)\r\n",
      "Requirement already satisfied: spacy-legacy<3.1.0,>=3.0.11 in /opt/conda/lib/python3.10/site-packages (from spacy<3.8.0,>=3.7.2->en-core-web-md==3.7.1) (3.0.12)\r\n",
      "Requirement already satisfied: spacy-loggers<2.0.0,>=1.0.0 in /opt/conda/lib/python3.10/site-packages (from spacy<3.8.0,>=3.7.2->en-core-web-md==3.7.1) (1.0.5)\r\n",
      "Requirement already satisfied: murmurhash<1.1.0,>=0.28.0 in /opt/conda/lib/python3.10/site-packages (from spacy<3.8.0,>=3.7.2->en-core-web-md==3.7.1) (1.0.10)\r\n",
      "Requirement already satisfied: cymem<2.1.0,>=2.0.2 in /opt/conda/lib/python3.10/site-packages (from spacy<3.8.0,>=3.7.2->en-core-web-md==3.7.1) (2.0.8)\r\n",
      "Requirement already satisfied: preshed<3.1.0,>=3.0.2 in /opt/conda/lib/python3.10/site-packages (from spacy<3.8.0,>=3.7.2->en-core-web-md==3.7.1) (3.0.9)\r\n",
      "Requirement already satisfied: thinc<8.3.0,>=8.2.2 in /opt/conda/lib/python3.10/site-packages (from spacy<3.8.0,>=3.7.2->en-core-web-md==3.7.1) (8.2.2)\r\n",
      "Requirement already satisfied: wasabi<1.2.0,>=0.9.1 in /opt/conda/lib/python3.10/site-packages (from spacy<3.8.0,>=3.7.2->en-core-web-md==3.7.1) (1.1.2)\r\n",
      "Requirement already satisfied: srsly<3.0.0,>=2.4.3 in /opt/conda/lib/python3.10/site-packages (from spacy<3.8.0,>=3.7.2->en-core-web-md==3.7.1) (2.4.8)\r\n",
      "Requirement already satisfied: catalogue<2.1.0,>=2.0.6 in /opt/conda/lib/python3.10/site-packages (from spacy<3.8.0,>=3.7.2->en-core-web-md==3.7.1) (2.0.10)\r\n",
      "Requirement already satisfied: weasel<0.4.0,>=0.1.0 in /opt/conda/lib/python3.10/site-packages (from spacy<3.8.0,>=3.7.2->en-core-web-md==3.7.1) (0.3.4)\r\n",
      "Requirement already satisfied: typer<0.10.0,>=0.3.0 in /opt/conda/lib/python3.10/site-packages (from spacy<3.8.0,>=3.7.2->en-core-web-md==3.7.1) (0.9.0)\r\n",
      "Requirement already satisfied: smart-open<7.0.0,>=5.2.1 in /opt/conda/lib/python3.10/site-packages (from spacy<3.8.0,>=3.7.2->en-core-web-md==3.7.1) (6.4.0)\r\n",
      "Requirement already satisfied: tqdm<5.0.0,>=4.38.0 in /opt/conda/lib/python3.10/site-packages (from spacy<3.8.0,>=3.7.2->en-core-web-md==3.7.1) (4.66.1)\r\n",
      "Requirement already satisfied: requests<3.0.0,>=2.13.0 in /opt/conda/lib/python3.10/site-packages (from spacy<3.8.0,>=3.7.2->en-core-web-md==3.7.1) (2.31.0)\r\n",
      "Requirement already satisfied: pydantic!=1.8,!=1.8.1,<3.0.0,>=1.7.4 in /opt/conda/lib/python3.10/site-packages (from spacy<3.8.0,>=3.7.2->en-core-web-md==3.7.1) (2.5.3)\r\n",
      "Requirement already satisfied: jinja2 in /opt/conda/lib/python3.10/site-packages (from spacy<3.8.0,>=3.7.2->en-core-web-md==3.7.1) (3.1.2)\r\n",
      "Requirement already satisfied: setuptools in /opt/conda/lib/python3.10/site-packages (from spacy<3.8.0,>=3.7.2->en-core-web-md==3.7.1) (69.0.3)\r\n",
      "Requirement already satisfied: packaging>=20.0 in /opt/conda/lib/python3.10/site-packages (from spacy<3.8.0,>=3.7.2->en-core-web-md==3.7.1) (21.3)\r\n",
      "Requirement already satisfied: langcodes<4.0.0,>=3.2.0 in /opt/conda/lib/python3.10/site-packages (from spacy<3.8.0,>=3.7.2->en-core-web-md==3.7.1) (3.3.0)\r\n",
      "Requirement already satisfied: numpy>=1.19.0 in /opt/conda/lib/python3.10/site-packages (from spacy<3.8.0,>=3.7.2->en-core-web-md==3.7.1) (1.26.4)\r\n",
      "Requirement already satisfied: pyparsing!=3.0.5,>=2.0.2 in /opt/conda/lib/python3.10/site-packages (from packaging>=20.0->spacy<3.8.0,>=3.7.2->en-core-web-md==3.7.1) (3.1.1)\r\n",
      "Requirement already satisfied: annotated-types>=0.4.0 in /opt/conda/lib/python3.10/site-packages (from pydantic!=1.8,!=1.8.1,<3.0.0,>=1.7.4->spacy<3.8.0,>=3.7.2->en-core-web-md==3.7.1) (0.6.0)\r\n",
      "Requirement already satisfied: pydantic-core==2.14.6 in /opt/conda/lib/python3.10/site-packages (from pydantic!=1.8,!=1.8.1,<3.0.0,>=1.7.4->spacy<3.8.0,>=3.7.2->en-core-web-md==3.7.1) (2.14.6)\r\n",
      "Requirement already satisfied: typing-extensions>=4.6.1 in /opt/conda/lib/python3.10/site-packages (from pydantic!=1.8,!=1.8.1,<3.0.0,>=1.7.4->spacy<3.8.0,>=3.7.2->en-core-web-md==3.7.1) (4.9.0)\r\n",
      "Requirement already satisfied: charset-normalizer<4,>=2 in /opt/conda/lib/python3.10/site-packages (from requests<3.0.0,>=2.13.0->spacy<3.8.0,>=3.7.2->en-core-web-md==3.7.1) (3.3.2)\r\n",
      "Requirement already satisfied: idna<4,>=2.5 in /opt/conda/lib/python3.10/site-packages (from requests<3.0.0,>=2.13.0->spacy<3.8.0,>=3.7.2->en-core-web-md==3.7.1) (3.6)\r\n",
      "Requirement already satisfied: urllib3<3,>=1.21.1 in /opt/conda/lib/python3.10/site-packages (from requests<3.0.0,>=2.13.0->spacy<3.8.0,>=3.7.2->en-core-web-md==3.7.1) (1.26.18)\r\n",
      "Requirement already satisfied: certifi>=2017.4.17 in /opt/conda/lib/python3.10/site-packages (from requests<3.0.0,>=2.13.0->spacy<3.8.0,>=3.7.2->en-core-web-md==3.7.1) (2024.2.2)\r\n",
      "Requirement already satisfied: blis<0.8.0,>=0.7.8 in /opt/conda/lib/python3.10/site-packages (from thinc<8.3.0,>=8.2.2->spacy<3.8.0,>=3.7.2->en-core-web-md==3.7.1) (0.7.10)\r\n",
      "Requirement already satisfied: confection<1.0.0,>=0.0.1 in /opt/conda/lib/python3.10/site-packages (from thinc<8.3.0,>=8.2.2->spacy<3.8.0,>=3.7.2->en-core-web-md==3.7.1) (0.1.4)\r\n",
      "Requirement already satisfied: click<9.0.0,>=7.1.1 in /opt/conda/lib/python3.10/site-packages (from typer<0.10.0,>=0.3.0->spacy<3.8.0,>=3.7.2->en-core-web-md==3.7.1) (8.1.7)\r\n",
      "Requirement already satisfied: cloudpathlib<0.17.0,>=0.7.0 in /opt/conda/lib/python3.10/site-packages (from weasel<0.4.0,>=0.1.0->spacy<3.8.0,>=3.7.2->en-core-web-md==3.7.1) (0.16.0)\r\n",
      "Requirement already satisfied: MarkupSafe>=2.0 in /opt/conda/lib/python3.10/site-packages (from jinja2->spacy<3.8.0,>=3.7.2->en-core-web-md==3.7.1) (2.1.3)\r\n",
      "Installing collected packages: en-core-web-md\r\n",
      "Successfully installed en-core-web-md-3.7.1\r\n",
      "\u001b[38;5;2m✔ Download and installation successful\u001b[0m\r\n",
      "You can now load the package via spacy.load('en_core_web_md')\r\n"
     ]
    }
   ],
   "source": [
    "!spacy download en_core_web_md"
   ]
  },
  {
   "cell_type": "code",
   "execution_count": 3,
   "id": "e6d78948",
   "metadata": {
    "execution": {
     "iopub.execute_input": "2024-05-21T07:54:42.853594Z",
     "iopub.status.busy": "2024-05-21T07:54:42.852559Z",
     "iopub.status.idle": "2024-05-21T07:54:50.832936Z",
     "shell.execute_reply": "2024-05-21T07:54:50.832037Z"
    },
    "papermill": {
     "duration": 7.993814,
     "end_time": "2024-05-21T07:54:50.835576",
     "exception": false,
     "start_time": "2024-05-21T07:54:42.841762",
     "status": "completed"
    },
    "tags": []
   },
   "outputs": [],
   "source": [
    "import spacy\n",
    "import pandas as pd \n",
    "import numpy as np \n",
    "import torch \n",
    "import torch.nn as nn \n",
    "import torch.optim as optim \n",
    "from torchvision import transforms\n",
    "from torch.utils.data import DataLoader\n",
    "import nltk \n",
    "import re \n",
    "from nltk.tokenize import sent_tokenize, word_tokenize\n",
    "from sklearn.preprocessing import OrdinalEncoder\n",
    "from sklearn.model_selection import train_test_split\n",
    "from nltk.stem import PorterStemmer \n",
    "import matplotlib.pyplot as plt \n",
    "import torch.utils.data as D\n",
    "import torch.nn.functional as F"
   ]
  },
  {
   "cell_type": "code",
   "execution_count": 4,
   "id": "6fa4019c",
   "metadata": {
    "execution": {
     "iopub.execute_input": "2024-05-21T07:54:50.856144Z",
     "iopub.status.busy": "2024-05-21T07:54:50.855175Z",
     "iopub.status.idle": "2024-05-21T07:54:52.392272Z",
     "shell.execute_reply": "2024-05-21T07:54:52.391261Z"
    },
    "papermill": {
     "duration": 1.54952,
     "end_time": "2024-05-21T07:54:52.394539",
     "exception": false,
     "start_time": "2024-05-21T07:54:50.845019",
     "status": "completed"
    },
    "tags": []
   },
   "outputs": [
    {
     "data": {
      "text/plain": [
       "(50000, 2)"
      ]
     },
     "execution_count": 4,
     "metadata": {},
     "output_type": "execute_result"
    }
   ],
   "source": [
    "# imdb movie review dataset\n",
    "df = pd.read_csv('/kaggle/input/imdb-dataset/a1_IMDB_Dataset.csv')\n",
    "df.head()\n",
    "df.shape"
   ]
  },
  {
   "cell_type": "code",
   "execution_count": 5,
   "id": "6d8e49ac",
   "metadata": {
    "execution": {
     "iopub.execute_input": "2024-05-21T07:54:52.415429Z",
     "iopub.status.busy": "2024-05-21T07:54:52.415084Z",
     "iopub.status.idle": "2024-05-21T07:54:52.424972Z",
     "shell.execute_reply": "2024-05-21T07:54:52.424058Z"
    },
    "papermill": {
     "duration": 0.022864,
     "end_time": "2024-05-21T07:54:52.427211",
     "exception": false,
     "start_time": "2024-05-21T07:54:52.404347",
     "status": "completed"
    },
    "tags": []
   },
   "outputs": [
    {
     "data": {
      "text/plain": [
       "'A wonderful little production. <br /><br />The filming technique is very unassuming- very old-time-BBC fashion and gives a comforting, and sometimes discomforting, sense of realism to the entire piece. <br /><br />The actors are extremely well chosen- Michael Sheen not only \"has got all the polari\" but he has all the voices down pat too! You can truly see the seamless editing guided by the references to Williams\\' diary entries, not only is it well worth the watching but it is a terrificly written and performed piece. A masterful production about one of the great master\\'s of comedy and his life. <br /><br />The realism really comes home with the little things: the fantasy of the guard which, rather than use the traditional \\'dream\\' techniques remains solid then disappears. It plays on our knowledge and our senses, particularly with the scenes concerning Orton and Halliwell and the sets (particularly of their flat with Halliwell\\'s murals decorating every surface) are terribly well done.'"
      ]
     },
     "execution_count": 5,
     "metadata": {},
     "output_type": "execute_result"
    }
   ],
   "source": [
    "df['review'][1]"
   ]
  },
  {
   "cell_type": "markdown",
   "id": "96a2cbb7",
   "metadata": {
    "papermill": {
     "duration": 0.009543,
     "end_time": "2024-05-21T07:54:52.446363",
     "exception": false,
     "start_time": "2024-05-21T07:54:52.436820",
     "status": "completed"
    },
    "tags": []
   },
   "source": [
    "From the above description we should remove \n",
    "1. br tag\n",
    "2. puctuations \n",
    "3. stopping words \n",
    "4. stemming \n"
   ]
  },
  {
   "cell_type": "code",
   "execution_count": 6,
   "id": "87ac24c6",
   "metadata": {
    "execution": {
     "iopub.execute_input": "2024-05-21T07:54:52.467873Z",
     "iopub.status.busy": "2024-05-21T07:54:52.466811Z",
     "iopub.status.idle": "2024-05-21T07:54:55.338396Z",
     "shell.execute_reply": "2024-05-21T07:54:55.337407Z"
    },
    "papermill": {
     "duration": 2.885255,
     "end_time": "2024-05-21T07:54:55.341123",
     "exception": false,
     "start_time": "2024-05-21T07:54:52.455868",
     "status": "completed"
    },
    "tags": []
   },
   "outputs": [],
   "source": [
    "nlp = spacy.load('en_core_web_md')\n",
    "string = df['review'][1] "
   ]
  },
  {
   "cell_type": "markdown",
   "id": "cbde90de",
   "metadata": {
    "papermill": {
     "duration": 0.010693,
     "end_time": "2024-05-21T07:54:55.362038",
     "exception": false,
     "start_time": "2024-05-21T07:54:55.351345",
     "status": "completed"
    },
    "tags": []
   },
   "source": [
    "1. convert the label in the pandas to vector \n",
    "2. do splitting \n",
    "3. for each review collect the vector and do padding and take note of target "
   ]
  },
  {
   "cell_type": "code",
   "execution_count": 7,
   "id": "09d7dd72",
   "metadata": {
    "execution": {
     "iopub.execute_input": "2024-05-21T07:54:55.383624Z",
     "iopub.status.busy": "2024-05-21T07:54:55.383252Z",
     "iopub.status.idle": "2024-05-21T07:54:55.420690Z",
     "shell.execute_reply": "2024-05-21T07:54:55.419777Z"
    },
    "papermill": {
     "duration": 0.050782,
     "end_time": "2024-05-21T07:54:55.422873",
     "exception": false,
     "start_time": "2024-05-21T07:54:55.372091",
     "status": "completed"
    },
    "tags": []
   },
   "outputs": [],
   "source": [
    "\n",
    "od = OrdinalEncoder()\n",
    "\n",
    "df['sentiment'] = od.fit_transform(df[['sentiment']])\n",
    "\n",
    "X_train, X_test, y_train, y_test = train_test_split(df['review'], df['sentiment'], random_state=2, test_size=0.3)\n"
   ]
  },
  {
   "cell_type": "code",
   "execution_count": 8,
   "id": "13318f7d",
   "metadata": {
    "execution": {
     "iopub.execute_input": "2024-05-21T07:54:55.444564Z",
     "iopub.status.busy": "2024-05-21T07:54:55.444223Z",
     "iopub.status.idle": "2024-05-21T07:54:55.468970Z",
     "shell.execute_reply": "2024-05-21T07:54:55.467971Z"
    },
    "papermill": {
     "duration": 0.038007,
     "end_time": "2024-05-21T07:54:55.471155",
     "exception": false,
     "start_time": "2024-05-21T07:54:55.433148",
     "status": "completed"
    },
    "tags": []
   },
   "outputs": [],
   "source": [
    "class Text_preprocessor():\n",
    "    \n",
    "    \n",
    "    def __init__(self):\n",
    "        self.max_length = 0\n",
    "        self.train_files = []\n",
    "        self.test_files = []\n",
    "        \n",
    "    def preprocess(self, X_train, y_train, train=True):\n",
    "        '''\n",
    "        X_train = text or sentence of the review\n",
    "        y_train = labels in vectorized format\n",
    "        '''\n",
    "        \n",
    "        self.data_to_vector(X_train, y_train, train) # converts the data to vector and removes the data if the sent is zero and save it in a file\n",
    "        files = self.train_files if train else self.test_files\n",
    "        if train: # if its train mode view the distribution and fix the pad size else do the padding \n",
    "            return self.plot_length(self.train_files) \n",
    "        else:\n",
    "            test_batches = self.data_vec_to_pad(self.test_files) # padd the sentence with zeros so the every rows the same returns the vec as batches\n",
    "\n",
    "            return test_batches\n",
    "        \n",
    "    \n",
    "    def description_to_vector(self, string):\n",
    "        string = re.sub('.*?>', '', string)\n",
    "        tokenizer = nlp(string)\n",
    "        words = []\n",
    "\n",
    "        for token in tokenizer:\n",
    "\n",
    "            if token.is_punct or token.is_stop:\n",
    "                continue\n",
    "\n",
    "            if token.has_vector:\n",
    "                words.append(torch.from_numpy(token.vector))\n",
    "\n",
    "        if len(words) == 0:\n",
    "            return [], 0\n",
    "    \n",
    "        vectorized = torch.stack(words) \n",
    "        return vectorized, len(vectorized)\n",
    "\n",
    "\n",
    "    def vector_padding(self, arr):\n",
    "        # the arr rows are words and col is word embeddings of that word \n",
    "        # to do add zeros rows so that rows equal to max_size\n",
    "        row_length, col_length = arr.shape # if the shape is of row and col\n",
    "        if row_length > self.max_length:\n",
    "            padded = arr[:self.max_length, :]\n",
    "        else:\n",
    "            zero_row_length = self.max_length - row_length\n",
    "            padded = torch.cat((arr, torch.zeros(zero_row_length, col_length)))\n",
    "        return padded\n",
    "    \n",
    "\n",
    "\n",
    "    def data_to_vector(self, X_train, y_train, train=True):\n",
    "\n",
    "\n",
    "        vectors = []\n",
    "        labels = []\n",
    "        files = []\n",
    "        file_no = 0\n",
    "\n",
    "\n",
    "        for idx, i in enumerate(X_train):\n",
    "            vector, vector_len = self.description_to_vector(i)\n",
    "            if vector_len > 0:\n",
    "#                 self.max_length = max(self.max_length, vector_len) \n",
    "\n",
    "                vectors.append(vector)\n",
    "                labels.append(y_train.iloc[idx])\n",
    "\n",
    "            if (idx+1) % 500 == 0:\n",
    "                # saves files in 5000 iterations \n",
    "                file_no = idx / 5000\n",
    "                if train:\n",
    "                    file_no = f'Train_{file_no}'\n",
    "                vecno = f'/kaggle/working/Vector_{file_no}.pt'\n",
    "\n",
    "                vectors, labels = vectors, torch.tensor(labels)\n",
    "                torch.save((vectors, labels), vecno)\n",
    "                if train:\n",
    "                    self.train_files.append(vecno)\n",
    "                else:\n",
    "                    self.test_files.append(vecno)\n",
    "                vectors = []\n",
    "                labels = []\n",
    "\n",
    "\n",
    "                print(f'----{idx}----')\n",
    "\n",
    "        if vectors:\n",
    "            vecno = f'/kaggle/working/Vector_{file_no}_final.pt'\n",
    "\n",
    "            vectors, labels = vectors, torch.tensor(labels)\n",
    "            torch.save((vectors, labels), vecno)\n",
    "            files.append(vecno)\n",
    "            vectors = []\n",
    "            labels = []\n",
    "        print('Finished Vectorizing')\n",
    "    \n",
    "\n",
    "\n",
    "    def data_vec_to_pad(self, files):\n",
    "        x_values = []\n",
    "\n",
    "        for file in files:\n",
    "            X, y = torch.load(file)\n",
    "            for i in range(len(X)):\n",
    "                X[i] = self.vector_padding(X[i])\n",
    "            x_values.append((torch.stack(X), y)) # (8, (tuple of total x, total y))\n",
    "\n",
    "        return x_values\n",
    "\n",
    "\n",
    "    def plot_length(self, files):\n",
    "        lengths = []\n",
    "        print(files)\n",
    "        for file in files:\n",
    "            (X, y) = torch.load(file)\n",
    "            for i in X:\n",
    "                lengths.append(len(i))\n",
    "        lengths = np.array(lengths)\n",
    "        return lengths\n",
    "\n",
    "\n",
    "        "
   ]
  },
  {
   "cell_type": "code",
   "execution_count": 9,
   "id": "70d3f0cf",
   "metadata": {
    "execution": {
     "iopub.execute_input": "2024-05-21T07:54:55.493155Z",
     "iopub.status.busy": "2024-05-21T07:54:55.492826Z",
     "iopub.status.idle": "2024-05-21T08:10:54.556693Z",
     "shell.execute_reply": "2024-05-21T08:10:54.555699Z"
    },
    "papermill": {
     "duration": 959.093216,
     "end_time": "2024-05-21T08:10:54.574692",
     "exception": false,
     "start_time": "2024-05-21T07:54:55.481476",
     "status": "completed"
    },
    "tags": []
   },
   "outputs": [
    {
     "name": "stdout",
     "output_type": "stream",
     "text": [
      "----499----\n",
      "----999----\n",
      "----1499----\n",
      "----1999----\n",
      "----2499----\n",
      "----2999----\n",
      "----3499----\n",
      "----3999----\n",
      "----4499----\n",
      "----4999----\n",
      "----5499----\n",
      "----5999----\n",
      "----6499----\n",
      "----6999----\n",
      "----7499----\n",
      "----7999----\n",
      "----8499----\n",
      "----8999----\n",
      "----9499----\n",
      "----9999----\n",
      "----10499----\n",
      "----10999----\n",
      "----11499----\n",
      "----11999----\n",
      "----12499----\n",
      "----12999----\n",
      "----13499----\n",
      "----13999----\n",
      "----14499----\n",
      "----14999----\n",
      "----15499----\n",
      "----15999----\n",
      "----16499----\n",
      "----16999----\n",
      "----17499----\n",
      "----17999----\n",
      "----18499----\n",
      "----18999----\n",
      "----19499----\n",
      "----19999----\n",
      "----20499----\n",
      "----20999----\n",
      "----21499----\n",
      "----21999----\n",
      "----22499----\n",
      "----22999----\n",
      "----23499----\n",
      "----23999----\n",
      "----24499----\n",
      "----24999----\n",
      "----25499----\n",
      "----25999----\n",
      "----26499----\n",
      "----26999----\n",
      "----27499----\n",
      "----27999----\n",
      "----28499----\n",
      "----28999----\n",
      "----29499----\n",
      "----29999----\n",
      "----30499----\n",
      "----30999----\n",
      "----31499----\n",
      "----31999----\n",
      "----32499----\n",
      "----32999----\n",
      "----33499----\n",
      "----33999----\n",
      "----34499----\n",
      "----34999----\n",
      "Finished Vectorizing\n",
      "['/kaggle/working/Vector_Train_0.0998.pt', '/kaggle/working/Vector_Train_0.1998.pt', '/kaggle/working/Vector_Train_0.2998.pt', '/kaggle/working/Vector_Train_0.3998.pt', '/kaggle/working/Vector_Train_0.4998.pt', '/kaggle/working/Vector_Train_0.5998.pt', '/kaggle/working/Vector_Train_0.6998.pt', '/kaggle/working/Vector_Train_0.7998.pt', '/kaggle/working/Vector_Train_0.8998.pt', '/kaggle/working/Vector_Train_0.9998.pt', '/kaggle/working/Vector_Train_1.0998.pt', '/kaggle/working/Vector_Train_1.1998.pt', '/kaggle/working/Vector_Train_1.2998.pt', '/kaggle/working/Vector_Train_1.3998.pt', '/kaggle/working/Vector_Train_1.4998.pt', '/kaggle/working/Vector_Train_1.5998.pt', '/kaggle/working/Vector_Train_1.6998.pt', '/kaggle/working/Vector_Train_1.7998.pt', '/kaggle/working/Vector_Train_1.8998.pt', '/kaggle/working/Vector_Train_1.9998.pt', '/kaggle/working/Vector_Train_2.0998.pt', '/kaggle/working/Vector_Train_2.1998.pt', '/kaggle/working/Vector_Train_2.2998.pt', '/kaggle/working/Vector_Train_2.3998.pt', '/kaggle/working/Vector_Train_2.4998.pt', '/kaggle/working/Vector_Train_2.5998.pt', '/kaggle/working/Vector_Train_2.6998.pt', '/kaggle/working/Vector_Train_2.7998.pt', '/kaggle/working/Vector_Train_2.8998.pt', '/kaggle/working/Vector_Train_2.9998.pt', '/kaggle/working/Vector_Train_3.0998.pt', '/kaggle/working/Vector_Train_3.1998.pt', '/kaggle/working/Vector_Train_3.2998.pt', '/kaggle/working/Vector_Train_3.3998.pt', '/kaggle/working/Vector_Train_3.4998.pt', '/kaggle/working/Vector_Train_3.5998.pt', '/kaggle/working/Vector_Train_3.6998.pt', '/kaggle/working/Vector_Train_3.7998.pt', '/kaggle/working/Vector_Train_3.8998.pt', '/kaggle/working/Vector_Train_3.9998.pt', '/kaggle/working/Vector_Train_4.0998.pt', '/kaggle/working/Vector_Train_4.1998.pt', '/kaggle/working/Vector_Train_4.2998.pt', '/kaggle/working/Vector_Train_4.3998.pt', '/kaggle/working/Vector_Train_4.4998.pt', '/kaggle/working/Vector_Train_4.5998.pt', '/kaggle/working/Vector_Train_4.6998.pt', '/kaggle/working/Vector_Train_4.7998.pt', '/kaggle/working/Vector_Train_4.8998.pt', '/kaggle/working/Vector_Train_4.9998.pt', '/kaggle/working/Vector_Train_5.0998.pt', '/kaggle/working/Vector_Train_5.1998.pt', '/kaggle/working/Vector_Train_5.2998.pt', '/kaggle/working/Vector_Train_5.3998.pt', '/kaggle/working/Vector_Train_5.4998.pt', '/kaggle/working/Vector_Train_5.5998.pt', '/kaggle/working/Vector_Train_5.6998.pt', '/kaggle/working/Vector_Train_5.7998.pt', '/kaggle/working/Vector_Train_5.8998.pt', '/kaggle/working/Vector_Train_5.9998.pt', '/kaggle/working/Vector_Train_6.0998.pt', '/kaggle/working/Vector_Train_6.1998.pt', '/kaggle/working/Vector_Train_6.2998.pt', '/kaggle/working/Vector_Train_6.3998.pt', '/kaggle/working/Vector_Train_6.4998.pt', '/kaggle/working/Vector_Train_6.5998.pt', '/kaggle/working/Vector_Train_6.6998.pt', '/kaggle/working/Vector_Train_6.7998.pt', '/kaggle/working/Vector_Train_6.8998.pt', '/kaggle/working/Vector_Train_6.9998.pt']\n"
     ]
    },
    {
     "data": {
      "image/png": "[encoded data removed]",
      "text/plain": [
       "<Figure size 640x480 with 1 Axes>"
      ]
     },
     "metadata": {},
     "output_type": "display_data"
    }
   ],
   "source": [
    "preprocessor = Text_preprocessor()\n",
    "lengths = preprocessor.preprocess(X_train, y_train, True)\n",
    "plt.hist(lengths, bins = 20)\n",
    "plt.show()"
   ]
  },
  {
   "cell_type": "code",
   "execution_count": 10,
   "id": "3ae2075c",
   "metadata": {
    "execution": {
     "iopub.execute_input": "2024-05-21T08:10:54.607738Z",
     "iopub.status.busy": "2024-05-21T08:10:54.607363Z",
     "iopub.status.idle": "2024-05-21T08:11:03.474794Z",
     "shell.execute_reply": "2024-05-21T08:11:03.473647Z"
    },
    "papermill": {
     "duration": 8.887345,
     "end_time": "2024-05-21T08:11:03.477537",
     "exception": false,
     "start_time": "2024-05-21T08:10:54.590192",
     "status": "completed"
    },
    "tags": []
   },
   "outputs": [],
   "source": [
    "# from the observation max_length = 240 for padding \n",
    "preprocessor.max_length = 240 # set the padding length\n",
    "train_batch = preprocessor.data_vec_to_pad(preprocessor.train_files)"
   ]
  },
  {
   "cell_type": "code",
   "execution_count": 11,
   "id": "536c260e",
   "metadata": {
    "execution": {
     "iopub.execute_input": "2024-05-21T08:11:03.512199Z",
     "iopub.status.busy": "2024-05-21T08:11:03.511406Z",
     "iopub.status.idle": "2024-05-21T08:11:03.517592Z",
     "shell.execute_reply": "2024-05-21T08:11:03.516760Z"
    },
    "papermill": {
     "duration": 0.024439,
     "end_time": "2024-05-21T08:11:03.519447",
     "exception": false,
     "start_time": "2024-05-21T08:11:03.495008",
     "status": "completed"
    },
    "tags": []
   },
   "outputs": [
    {
     "data": {
      "text/plain": [
       "torch.Size([494, 240, 300])"
      ]
     },
     "execution_count": 11,
     "metadata": {},
     "output_type": "execute_result"
    }
   ],
   "source": [
    "train_batch[0][0].shape"
   ]
  },
  {
   "cell_type": "code",
   "execution_count": 12,
   "id": "77dcac72",
   "metadata": {
    "execution": {
     "iopub.execute_input": "2024-05-21T08:11:03.552530Z",
     "iopub.status.busy": "2024-05-21T08:11:03.551698Z",
     "iopub.status.idle": "2024-05-21T08:11:03.559614Z",
     "shell.execute_reply": "2024-05-21T08:11:03.558774Z"
    },
    "papermill": {
     "duration": 0.026688,
     "end_time": "2024-05-21T08:11:03.561509",
     "exception": false,
     "start_time": "2024-05-21T08:11:03.534821",
     "status": "completed"
    },
    "tags": []
   },
   "outputs": [],
   "source": [
    "# now i have to do the sequence learning based on the sequence_lenth\n",
    "class RNN(nn.Module):\n",
    "    def __init__(self, input_size, sequence_length, hidden_size, num_layer=1):\n",
    "        super().__init__()\n",
    "        self.input_size = input_size\n",
    "        self.sequence_length = sequence_length\n",
    "        self.hidden_size = hidden_size \n",
    "        self.num_layer = num_layer\n",
    "        self.feature_size = 300\n",
    "        self.rnn = nn.RNN(input_size, hidden_size, batch_first=True) # this result in a batch, 300, 500 \n",
    "        self.fc = nn.Linear(sequence_length*hidden_size, 500)\n",
    "        self.fc2 = nn.Linear(500, 2)\n",
    "\n",
    "    def forward(self, x):\n",
    "        rnn_res, hidden_weights = self.rnn(x)\n",
    "        reshaped_x = rnn_res.reshape(-1, self.sequence_length*self.hidden_size)\n",
    "        x = F.relu(self.fc(reshaped_x))\n",
    "        x = self.fc2(x)\n",
    "        return x\n",
    "    \n",
    "\n"
   ]
  },
  {
   "cell_type": "code",
   "execution_count": 13,
   "id": "f913985f",
   "metadata": {
    "execution": {
     "iopub.execute_input": "2024-05-21T08:11:03.594909Z",
     "iopub.status.busy": "2024-05-21T08:11:03.594346Z",
     "iopub.status.idle": "2024-05-21T08:11:03.601428Z",
     "shell.execute_reply": "2024-05-21T08:11:03.600546Z"
    },
    "papermill": {
     "duration": 0.026068,
     "end_time": "2024-05-21T08:11:03.603411",
     "exception": false,
     "start_time": "2024-05-21T08:11:03.577343",
     "status": "completed"
    },
    "tags": []
   },
   "outputs": [],
   "source": [
    "from sklearn.metrics import accuracy_score\n",
    "\n",
    "def accuracy(model, preprocessed):\n",
    "    acc = []\n",
    "    for (X, y) in preprocessed:\n",
    "        X = X.cuda()\n",
    "        y = y.type(torch.LongTensor)   \n",
    "        y = y.cuda()\n",
    "        \n",
    "        with torch.no_grad():\n",
    "            pred = model(X)\n",
    "            softmaxed = F.softmax(pred, dim=1)\n",
    "            result = torch.argmax(softmaxed, dim=1)\n",
    "            cpu_res = result.to('cpu')\n",
    "            y = y.to('cpu').numpy()\n",
    "            numpy_res = cpu_res.numpy()\n",
    "            acc.append(accuracy_score(y, numpy_res))\n",
    "#     print('Average acc: ', sum(acc) / len(acc))\n",
    "    return acc "
   ]
  },
  {
   "cell_type": "code",
   "execution_count": 14,
   "id": "f965a260",
   "metadata": {
    "execution": {
     "iopub.execute_input": "2024-05-21T08:11:03.637103Z",
     "iopub.status.busy": "2024-05-21T08:11:03.636774Z",
     "iopub.status.idle": "2024-05-21T08:17:55.126268Z",
     "shell.execute_reply": "2024-05-21T08:17:55.125078Z"
    },
    "papermill": {
     "duration": 411.509391,
     "end_time": "2024-05-21T08:17:55.129007",
     "exception": false,
     "start_time": "2024-05-21T08:11:03.619616",
     "status": "completed"
    },
    "tags": []
   },
   "outputs": [
    {
     "name": "stdout",
     "output_type": "stream",
     "text": [
      "----499----\n",
      "----999----\n",
      "----1499----\n",
      "----1999----\n",
      "----2499----\n",
      "----2999----\n",
      "----3499----\n",
      "----3999----\n",
      "----4499----\n",
      "----4999----\n",
      "----5499----\n",
      "----5999----\n",
      "----6499----\n",
      "----6999----\n",
      "----7499----\n",
      "----7999----\n",
      "----8499----\n",
      "----8999----\n",
      "----9499----\n",
      "----9999----\n",
      "----10499----\n",
      "----10999----\n",
      "----11499----\n",
      "----11999----\n",
      "----12499----\n",
      "----12999----\n",
      "----13499----\n",
      "----13999----\n",
      "----14499----\n",
      "----14999----\n",
      "Finished Vectorizing\n"
     ]
    }
   ],
   "source": [
    "test_batch = preprocessor.preprocess(X_test, y_test, False)"
   ]
  },
  {
   "cell_type": "code",
   "execution_count": 15,
   "id": "1d578bc7",
   "metadata": {
    "execution": {
     "iopub.execute_input": "2024-05-21T08:17:55.169120Z",
     "iopub.status.busy": "2024-05-21T08:17:55.168757Z",
     "iopub.status.idle": "2024-05-21T08:30:51.142550Z",
     "shell.execute_reply": "2024-05-21T08:30:51.141350Z"
    },
    "papermill": {
     "duration": 775.995797,
     "end_time": "2024-05-21T08:30:51.145099",
     "exception": false,
     "start_time": "2024-05-21T08:17:55.149302",
     "status": "completed"
    },
    "tags": []
   },
   "outputs": [],
   "source": [
    "\n",
    "train_acc = []\n",
    "test_acc = []\n",
    "\n",
    "criterion = F.cross_entropy\n",
    "epochs = 40\n",
    "input_size = 300\n",
    "hidden_size = 500\n",
    "sequence_len = 240\n",
    "model = RNN(input_size, sequence_len, hidden_size).cuda()\n",
    "\n",
    "optimizer = optim.Adam(model.parameters(), 0.001)\n",
    "\n",
    "\n",
    "for i in range(epochs):\n",
    "    for (X, y) in train_batch:\n",
    "        X = X.cuda()\n",
    "        y = y.type(torch.LongTensor)   \n",
    "        y = y.cuda()\n",
    "        \n",
    "        optimizer.zero_grad()\n",
    "        forward = model(X)\n",
    "        loss = criterion(forward, y)\n",
    "        loss.backward()\n",
    "        optimizer.step()\n",
    "        \n",
    "    with torch.no_grad():\n",
    "        acc = accuracy(model, test_batch)\n",
    "        test_acc.append(sum(acc)/len(acc))\n",
    "        \n",
    "        acc = accuracy(model, train_batch)\n",
    "        train_acc.append(sum(acc)/len(acc))\n",
    "        \n",
    "        "
   ]
  },
  {
   "cell_type": "code",
   "execution_count": 16,
   "id": "3c39b84f",
   "metadata": {
    "execution": {
     "iopub.execute_input": "2024-05-21T08:30:51.183183Z",
     "iopub.status.busy": "2024-05-21T08:30:51.182843Z",
     "iopub.status.idle": "2024-05-21T08:30:51.454196Z",
     "shell.execute_reply": "2024-05-21T08:30:51.452962Z"
    },
    "papermill": {
     "duration": 0.292636,
     "end_time": "2024-05-21T08:30:51.456502",
     "exception": false,
     "start_time": "2024-05-21T08:30:51.163866",
     "status": "completed"
    },
    "tags": []
   },
   "outputs": [
    {
     "data": {
      "image/png": "[encoded data removed]",
      "text/plain": [
       "<Figure size 640x480 with 1 Axes>"
      ]
     },
     "metadata": {},
     "output_type": "display_data"
    }
   ],
   "source": [
    "plt.plot(train_acc, label='Train Accuracy')\n",
    "plt.plot(test_acc, label='Test Accuracy')\n",
    "plt.legend()\n",
    "plt.show()"
   ]
  },
  {
   "cell_type": "code",
   "execution_count": 17,
   "id": "524e8ee4",
   "metadata": {
    "execution": {
     "iopub.execute_input": "2024-05-21T08:30:51.496653Z",
     "iopub.status.busy": "2024-05-21T08:30:51.496340Z",
     "iopub.status.idle": "2024-05-21T08:30:54.093983Z",
     "shell.execute_reply": "2024-05-21T08:30:54.092924Z"
    },
    "papermill": {
     "duration": 2.620658,
     "end_time": "2024-05-21T08:30:54.096130",
     "exception": false,
     "start_time": "2024-05-21T08:30:51.475472",
     "status": "completed"
    },
    "tags": []
   },
   "outputs": [
    {
     "data": {
      "text/plain": [
       "[0.6257668711656442,\n",
       " 0.6270491803278688,\n",
       " 0.6041237113402061,\n",
       " 0.6402439024390244,\n",
       " 0.6041237113402061,\n",
       " 0.6032719836400818,\n",
       " 0.6211812627291242,\n",
       " 0.6408163265306123,\n",
       " 0.6237006237006237,\n",
       " 0.6496945010183299,\n",
       " 0.6157024793388429,\n",
       " 0.6163265306122448,\n",
       " 0.5799180327868853,\n",
       " 0.6324435318275154,\n",
       " 0.6004098360655737,\n",
       " 0.6344969199178645,\n",
       " 0.5975359342915811,\n",
       " 0.5824847250509165,\n",
       " 0.5950413223140496,\n",
       " 0.5991649269311065,\n",
       " 0.5843621399176955,\n",
       " 0.6369168356997972,\n",
       " 0.5859213250517599,\n",
       " 0.6224489795918368,\n",
       " 0.606694560669456,\n",
       " 0.6612244897959184,\n",
       " 0.6139630390143738,\n",
       " 0.689161554192229,\n",
       " 0.6216216216216216,\n",
       " 0.5995850622406639]"
      ]
     },
     "execution_count": 17,
     "metadata": {},
     "output_type": "execute_result"
    }
   ],
   "source": [
    "accuracy(model, test_batch)"
   ]
  },
  {
   "cell_type": "code",
   "execution_count": 18,
   "id": "ca9c613e",
   "metadata": {
    "execution": {
     "iopub.execute_input": "2024-05-21T08:30:54.137770Z",
     "iopub.status.busy": "2024-05-21T08:30:54.136964Z",
     "iopub.status.idle": "2024-05-21T08:30:54.798012Z",
     "shell.execute_reply": "2024-05-21T08:30:54.797030Z"
    },
    "papermill": {
     "duration": 0.684588,
     "end_time": "2024-05-21T08:30:54.800550",
     "exception": false,
     "start_time": "2024-05-21T08:30:54.115962",
     "status": "completed"
    },
    "tags": []
   },
   "outputs": [],
   "source": [
    "model_scripted = torch.jit.script(model) # Export to TorchScript\n",
    "model_scripted.save('save_path') # Save"
   ]
  },
  {
   "cell_type": "code",
   "execution_count": 19,
   "id": "01c0c903",
   "metadata": {
    "execution": {
     "iopub.execute_input": "2024-05-21T08:30:54.839488Z",
     "iopub.status.busy": "2024-05-21T08:30:54.839184Z",
     "iopub.status.idle": "2024-05-21T08:30:54.847252Z",
     "shell.execute_reply": "2024-05-21T08:30:54.846336Z"
    },
    "papermill": {
     "duration": 0.029468,
     "end_time": "2024-05-21T08:30:54.849458",
     "exception": false,
     "start_time": "2024-05-21T08:30:54.819990",
     "status": "completed"
    },
    "tags": []
   },
   "outputs": [],
   "source": [
    "# now i have to do the sequence learning based on the sequence_lenth\n",
    "class LSTM(nn.Module):\n",
    "    def __init__(self, input_size, sequence_length, hidden_size, num_layer=1):\n",
    "        super().__init__()\n",
    "        self.input_size = input_size\n",
    "        self.sequence_length = sequence_length\n",
    "        self.hidden_size = hidden_size \n",
    "        self.num_layer = num_layer\n",
    "        self.feature_size = 300\n",
    "        self.lstm = nn.LSTM(input_size, hidden_size, batch_first=True) # this result in a batch, 300, 500 \n",
    "        self.fc = nn.Linear(sequence_length*hidden_size, 500)\n",
    "        self.fc2 = nn.Linear(500, 2)\n",
    "\n",
    "    def forward(self, x):\n",
    "        rnn_res, hidden_weights = self.lstm(x)\n",
    "        reshaped_x = rnn_res.reshape(-1, self.sequence_length*self.hidden_size)\n",
    "        x = F.relu(self.fc(reshaped_x))\n",
    "        x = self.fc2(x)\n",
    "        return x\n",
    "    \n"
   ]
  },
  {
   "cell_type": "code",
   "execution_count": 20,
   "id": "ccba7989",
   "metadata": {
    "execution": {
     "iopub.execute_input": "2024-05-21T08:30:54.888276Z",
     "iopub.status.busy": "2024-05-21T08:30:54.887609Z",
     "iopub.status.idle": "2024-05-21T08:47:37.791114Z",
     "shell.execute_reply": "2024-05-21T08:47:37.790261Z"
    },
    "papermill": {
     "duration": 1002.925663,
     "end_time": "2024-05-21T08:47:37.793539",
     "exception": false,
     "start_time": "2024-05-21T08:30:54.867876",
     "status": "completed"
    },
    "tags": []
   },
   "outputs": [],
   "source": [
    "from sklearn.metrics import accuracy_score\n",
    "\n",
    "criterion = F.cross_entropy\n",
    "epochs = 40\n",
    "input_size = 300\n",
    "hidden_size = 500\n",
    "sequence_len = 240\n",
    "model = LSTM(input_size, sequence_len, hidden_size).cuda()\n",
    "\n",
    "optimizer = optim.Adam(model.parameters(), 0.001)\n",
    "\n",
    "train_acc = []\n",
    "test_acc = []\n",
    "\n",
    "for i in range(30):\n",
    "    for (X, y) in train_batch:\n",
    "        X = X.cuda()\n",
    "        y = y.type(torch.LongTensor)   \n",
    "        y = y.cuda()\n",
    "        \n",
    "        optimizer.zero_grad()\n",
    "        forward = model(X)\n",
    "        \n",
    "        loss = criterion(forward, y)\n",
    "        loss.backward()\n",
    "        optimizer.step()\n",
    "        \n",
    "    with torch.no_grad():\n",
    "        acc = accuracy(model, test_batch)\n",
    "        test_acc.append(sum(acc)/len(acc))\n",
    "        \n",
    "        acc = accuracy(model, train_batch)\n",
    "        train_acc.append(sum(acc)/len(acc))\n",
    "    \n",
    "        "
   ]
  },
  {
   "cell_type": "code",
   "execution_count": 21,
   "id": "659630c2",
   "metadata": {
    "execution": {
     "iopub.execute_input": "2024-05-21T08:47:37.833142Z",
     "iopub.status.busy": "2024-05-21T08:47:37.832849Z",
     "iopub.status.idle": "2024-05-21T08:47:38.095902Z",
     "shell.execute_reply": "2024-05-21T08:47:38.094881Z"
    },
    "papermill": {
     "duration": 0.28524,
     "end_time": "2024-05-21T08:47:38.098079",
     "exception": false,
     "start_time": "2024-05-21T08:47:37.812839",
     "status": "completed"
    },
    "tags": []
   },
   "outputs": [
    {
     "data": {
      "image/png": "[encoded data removed]",
      "text/plain": [
       "<Figure size 640x480 with 1 Axes>"
      ]
     },
     "metadata": {},
     "output_type": "display_data"
    }
   ],
   "source": [
    "plt.plot(train_acc, label='Train Accuracy')\n",
    "plt.plot(test_acc, label='Test Accuracy')\n",
    "plt.legend()\n",
    "plt.show()"
   ]
  },
  {
   "cell_type": "code",
   "execution_count": 22,
   "id": "65855db4",
   "metadata": {
    "execution": {
     "iopub.execute_input": "2024-05-21T08:47:38.139869Z",
     "iopub.status.busy": "2024-05-21T08:47:38.139025Z",
     "iopub.status.idle": "2024-05-21T08:47:50.873553Z",
     "shell.execute_reply": "2024-05-21T08:47:50.872390Z"
    },
    "papermill": {
     "duration": 12.757962,
     "end_time": "2024-05-21T08:47:50.875940",
     "exception": false,
     "start_time": "2024-05-21T08:47:38.117978",
     "status": "completed"
    },
    "tags": []
   },
   "outputs": [
    {
     "name": "stdout",
     "output_type": "stream",
     "text": [
      "Train: [0.9898785425101214, 0.9918200408997955, 0.9979550102249489, 0.9959266802443992, 0.9959016393442623, 0.9959432048681541, 0.9897540983606558, 0.9958847736625515, 0.997946611909651, 0.9852631578947368, 0.9938398357289527, 1.0, 0.9958932238193019, 0.9938775510204082, 0.9938271604938271, 1.0, 0.9916839916839917, 0.9959266802443992, 0.9938144329896907, 0.9959432048681541, 0.9979838709677419, 0.9917184265010351, 0.991701244813278, 1.0, 0.9896694214876033, 0.9958847736625515, 0.9958932238193019, 1.0, 0.9938524590163934, 0.9979838709677419, 0.9958762886597938, 0.9918864097363083, 0.9898373983739838, 0.9958677685950413, 0.9938271604938271, 0.9918200408997955, 0.9896049896049897, 0.9979633401221996, 0.9917525773195877, 0.9937888198757764, 0.9917184265010351, 0.995850622406639, 0.9918032786885246, 0.9958847736625515, 0.9918533604887984, 0.997946611909651, 0.99375, 0.9898167006109979, 0.9938398357289527, 0.9835728952772074, 0.9959016393442623, 0.9897119341563786, 0.9958847736625515, 0.9917355371900827, 0.9938900203665988, 1.0, 0.9878542510121457, 0.9917864476386037, 0.995850622406639, 0.9898167006109979, 0.9877800407331976, 0.9875518672199171, 0.9958932238193019, 0.9937888198757764, 0.9938144329896907, 0.9979296066252588, 0.9937759336099585, 0.9875776397515528, 0.9959349593495935, 0.9958932238193019] Test: [0.8057259713701431, 0.7889344262295082, 0.797938144329897, 0.7886178861788617, 0.7917525773195876, 0.7995910020449898, 0.769857433808554, 0.7693877551020408, 0.7733887733887734, 0.8228105906313645, 0.8140495867768595, 0.763265306122449, 0.7602459016393442, 0.8049281314168378, 0.8114754098360656, 0.7515400410677618, 0.8069815195071869, 0.7535641547861507, 0.7871900826446281, 0.8079331941544885, 0.8251028806584362, 0.7849898580121704, 0.8053830227743272, 0.810204081632653, 0.7510460251046025, 0.7938775510204081, 0.8028747433264887, 0.7852760736196319, 0.7525987525987526, 0.7863070539419087]\n"
     ]
    }
   ],
   "source": [
    "train_acc = accuracy(model, train_batch)\n",
    "test_acc = accuracy(model, test_batch)\n",
    "\n",
    "print('Train:', train_acc,'Test:', test_acc)"
   ]
  },
  {
   "cell_type": "code",
   "execution_count": null,
   "id": "71c7bf62",
   "metadata": {
    "execution": {
     "iopub.execute_input": "2024-05-21T08:47:50.920799Z",
     "iopub.status.busy": "2024-05-21T08:47:50.920431Z",
     "iopub.status.idle": "2024-05-21T08:47:50.971838Z",
     "shell.execute_reply": "2024-05-21T08:47:50.970789Z"
    },
    "papermill": {
     "duration": 0.07585,
     "end_time": "2024-05-21T08:47:50.973812",
     "exception": false,
     "start_time": "2024-05-21T08:47:50.897962",
     "status": "completed"
    },
    "tags": []
   },
   "outputs": [],
   "source": [
    "\n",
    "def predict(model, text, preprocessor):\n",
    "    labels = ['Negative', 'Positive']\n",
    "    des_vec, length = preprocessor.description_to_vector(text)\n",
    "    padded_res = preprocessor.vector_padding(des_vec)\n",
    "    padded_res = padded_res.unsqueeze(0)\n",
    "    res = model(padded_res.cuda())\n",
    "    forward = torch.argmax(F.softmax(res, dim=1), dim=1)\n",
    "    return labels[forward]\n",
    "    \n",
    "predict(model, 'hello how are you this movie is really good i like this', preprocessor)"
   ]
  },
  {
   "cell_type": "code",
   "execution_count": 24,
   "id": "ef17a39c",
   "metadata": {
    "execution": {
     "iopub.execute_input": "2024-05-21T08:47:51.016476Z",
     "iopub.status.busy": "2024-05-21T08:47:51.016096Z",
     "iopub.status.idle": "2024-05-21T08:47:51.689580Z",
     "shell.execute_reply": "2024-05-21T08:47:51.688763Z"
    },
    "papermill": {
     "duration": 0.697436,
     "end_time": "2024-05-21T08:47:51.692117",
     "exception": false,
     "start_time": "2024-05-21T08:47:50.994681",
     "status": "completed"
    },
    "tags": []
   },
   "outputs": [],
   "source": [
    "model_scripted = torch.jit.script(model) # Export to TorchScript\n",
    "model_scripted.save('save_path') # Save\n"
   ]
  }
 ],
 "metadata": {
  "kaggle": {
   "accelerator": "gpu",
   "dataSources": [
    {
     "datasetId": 5004278,
     "sourceId": 8408821,
     "sourceType": "datasetVersion"
    }
   ],
   "dockerImageVersionId": 30698,
   "isGpuEnabled": true,
   "isInternetEnabled": true,
   "language": "python",
   "sourceType": "notebook"
  },
  "kernelspec": {
   "display_name": "Python 3",
   "language": "python",
   "name": "python3"
  },
  "language_info": {
   "codemirror_mode": {
    "name": "ipython",
    "version": 3
   },
   "file_extension": ".py",
   "mimetype": "text/x-python",
   "name": "python",
   "nbconvert_exporter": "python",
   "pygments_lexer": "ipython3",
   "version": "3.10.12"
  },
  "papermill": {
   "default_parameters": {},
   "duration": 3220.764058,
   "end_time": "2024-05-21T08:47:54.711194",
   "environment_variables": {},
   "exception": null,
   "input_path": "__notebook__.ipynb",
   "output_path": "__notebook__.ipynb",
   "parameters": {},
   "start_time": "2024-05-21T07:54:13.947136",
   "version": "2.5.0"
  }
 },
 "nbformat": 4,
 "nbformat_minor": 5
}
