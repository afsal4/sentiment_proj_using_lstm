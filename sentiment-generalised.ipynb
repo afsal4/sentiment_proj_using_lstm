{
 "cells": [
  {
   "cell_type": "code",
   "execution_count": 2,
   "id": "4bd0838d",
   "metadata": {
    "execution": {
     "iopub.execute_input": "2024-07-10T08:32:53.336044Z",
     "iopub.status.busy": "2024-07-10T08:32:53.335483Z",
     "iopub.status.idle": "2024-07-10T08:32:58.205683Z",
     "shell.execute_reply": "2024-07-10T08:32:58.204712Z"
    },
    "papermill": {
     "duration": 4.878149,
     "end_time": "2024-07-10T08:32:58.208535",
     "exception": false,
     "start_time": "2024-07-10T08:32:53.330386",
     "status": "completed"
    },
    "tags": []
   },
   "outputs": [],
   "source": [
    "import torch \n",
    "import torch.nn as nn\n",
    "import torch.nn.functional as F\n",
    "import matplotlib.pyplot as plt \n",
    "from sklearn.metrics import accuracy_score\n",
    "import torch.optim as optim\n",
    "import numpy as np \n",
    "import os \n"
   ]
  },
  {
   "cell_type": "markdown",
   "id": "8e996f6b",
   "metadata": {},
   "source": [
    "#### Loading preprocessed data from files"
   ]
  },
  {
   "cell_type": "code",
   "execution_count": 3,
   "id": "2a8b6ec0",
   "metadata": {
    "execution": {
     "iopub.execute_input": "2024-07-10T08:32:58.219181Z",
     "iopub.status.busy": "2024-07-10T08:32:58.218754Z",
     "iopub.status.idle": "2024-07-10T08:32:58.223908Z",
     "shell.execute_reply": "2024-07-10T08:32:58.223085Z"
    },
    "papermill": {
     "duration": 0.012511,
     "end_time": "2024-07-10T08:32:58.225862",
     "exception": false,
     "start_time": "2024-07-10T08:32:58.213351",
     "status": "completed"
    },
    "tags": []
   },
   "outputs": [],
   "source": [
    "input_paths = ['list_of_all_vec_files']\n",
    "train_vec = r'train_vec'\n",
    "test_vec = r'test_vec'\n",
    "train_files = []\n",
    "test_files = []\n",
    "\n",
    "for file in input_paths:\n",
    "    if train_vec in file:\n",
    "        train_files.append(file)\n",
    "    elif test_vec in file:\n",
    "        test_files.append(file)"
   ]
  },
  {
   "cell_type": "code",
   "execution_count": 4,
   "id": "88dac7b7",
   "metadata": {
    "execution": {
     "iopub.execute_input": "2024-07-10T08:32:58.235279Z",
     "iopub.status.busy": "2024-07-10T08:32:58.234997Z",
     "iopub.status.idle": "2024-07-10T08:32:58.241633Z",
     "shell.execute_reply": "2024-07-10T08:32:58.240815Z"
    },
    "papermill": {
     "duration": 0.013553,
     "end_time": "2024-07-10T08:32:58.243650",
     "exception": false,
     "start_time": "2024-07-10T08:32:58.230097",
     "status": "completed"
    },
    "tags": []
   },
   "outputs": [],
   "source": [
    "def vector_padding(max_length, arr):\n",
    "        row_length, col_length = arr.shape \n",
    "        if row_length > max_length:\n",
    "            padded = arr[:max_length, :]\n",
    "        else:\n",
    "            zero_row_length = max_length - row_length\n",
    "            padded = torch.cat((arr, torch.zeros(zero_row_length, col_length)))\n",
    "        return padded\n",
    "\n",
    "def data_vec_to_pad(max_length, files):\n",
    "        x_values = []\n",
    "\n",
    "        for file in files:\n",
    "            X, y = torch.load(file)\n",
    "            for i in range(len(X)):\n",
    "                X[i] = vector_padding(max_length, X[i])\n",
    "            x_values.append((torch.stack(X), y)) # (8, (tuple of total x, total y))\n",
    "\n",
    "        return x_values"
   ]
  },
  {
   "cell_type": "code",
   "execution_count": 5,
   "id": "d3110852",
   "metadata": {
    "execution": {
     "iopub.execute_input": "2024-07-10T08:32:58.253009Z",
     "iopub.status.busy": "2024-07-10T08:32:58.252755Z",
     "iopub.status.idle": "2024-07-10T08:33:33.466924Z",
     "shell.execute_reply": "2024-07-10T08:33:33.466072Z"
    },
    "papermill": {
     "duration": 35.221602,
     "end_time": "2024-07-10T08:33:33.469399",
     "exception": false,
     "start_time": "2024-07-10T08:32:58.247797",
     "status": "completed"
    },
    "tags": []
   },
   "outputs": [],
   "source": [
    "# maximum length for padding \n",
    "max_length = 240\n",
    "train = data_vec_to_pad(max_length, train_files)\n",
    "test = data_vec_to_pad(max_length, test_files)"
   ]
  },
  {
   "cell_type": "markdown",
   "id": "c5b8b9ec",
   "metadata": {},
   "source": [
    "### LSTM Architecture"
   ]
  },
  {
   "cell_type": "code",
   "execution_count": 6,
   "id": "f21f4889",
   "metadata": {
    "execution": {
     "iopub.execute_input": "2024-07-10T08:33:33.480526Z",
     "iopub.status.busy": "2024-07-10T08:33:33.480225Z",
     "iopub.status.idle": "2024-07-10T08:33:33.488798Z",
     "shell.execute_reply": "2024-07-10T08:33:33.487976Z"
    },
    "papermill": {
     "duration": 0.015987,
     "end_time": "2024-07-10T08:33:33.490683",
     "exception": false,
     "start_time": "2024-07-10T08:33:33.474696",
     "status": "completed"
    },
    "tags": []
   },
   "outputs": [],
   "source": [
    "class LSTM(nn.Module):\n",
    "    def __init__(self, input_size, sequence_length, hidden_size, p=.3, num_layer=1):\n",
    "        super().__init__()\n",
    "        self.input_size = input_size\n",
    "        self.sequence_length = sequence_length\n",
    "        self.hidden_size = hidden_size \n",
    "        self.num_layer = num_layer\n",
    "        \n",
    "        self.lstm = nn.LSTM(input_size, hidden_size, batch_first=True) # this result in a batch, 300, 500 \n",
    "        self.norm1 = nn.LayerNorm(hidden_size)\n",
    "        self.dropout = nn.Dropout(p=p)\n",
    "        self.fc = nn.Linear(sequence_length*hidden_size, 500)\n",
    "        self.norm2 = nn.LayerNorm(500)\n",
    "        self.dropout = nn.Dropout(p=p)\n",
    "        self.fc2 = nn.Linear(500, 2)\n",
    "\n",
    "    def forward(self, x):\n",
    "        lstm_res, hidden_weights = self.lstm(x)\n",
    "        lstm_res = self.norm1(lstm_res)\n",
    "        lstm_res = self.dropout(lstm_res)\n",
    "        reshaped_x = lstm_res.reshape(-1, self.sequence_length*self.hidden_size)\n",
    "        x = F.relu(self.fc(reshaped_x))\n",
    "        x = self.norm2(x)\n",
    "        x = self.dropout(x)\n",
    "        x = self.fc2(x)\n",
    "        return x"
   ]
  },
  {
   "cell_type": "code",
   "execution_count": 7,
   "id": "ae9afb7a",
   "metadata": {
    "execution": {
     "iopub.execute_input": "2024-07-10T08:33:33.500001Z",
     "iopub.status.busy": "2024-07-10T08:33:33.499762Z",
     "iopub.status.idle": "2024-07-10T08:33:33.505981Z",
     "shell.execute_reply": "2024-07-10T08:33:33.505174Z"
    },
    "papermill": {
     "duration": 0.013144,
     "end_time": "2024-07-10T08:33:33.507965",
     "exception": false,
     "start_time": "2024-07-10T08:33:33.494821",
     "status": "completed"
    },
    "tags": []
   },
   "outputs": [],
   "source": [
    "def accuracy(model, preprocessed):\n",
    "    'finds batch wise accuracy'\n",
    "    acc = []\n",
    "    for (X, y) in preprocessed:\n",
    "        X = X.cuda()\n",
    "        y = y.type(torch.LongTensor)   \n",
    "        y = y.cuda()\n",
    "        \n",
    "        with torch.no_grad():\n",
    "            pred = model(X)\n",
    "            softmaxed = F.softmax(pred, dim=1)\n",
    "            result = torch.argmax(softmaxed, dim=1)\n",
    "            cpu_res = result.to('cpu')\n",
    "            y = y.to('cpu').numpy()\n",
    "            numpy_res = cpu_res.numpy()\n",
    "            acc.append(accuracy_score(y, numpy_res))\n",
    "#     print('Average acc: ', sum(acc) / len(acc))\n",
    "    return acc "
   ]
  },
  {
   "cell_type": "markdown",
   "id": "1acd4afd",
   "metadata": {},
   "source": [
    "### Training and saving the best accuracy test model"
   ]
  },
  {
   "cell_type": "code",
   "execution_count": 8,
   "id": "03856bb0",
   "metadata": {
    "execution": {
     "iopub.execute_input": "2024-07-10T08:33:33.517436Z",
     "iopub.status.busy": "2024-07-10T08:33:33.517173Z",
     "iopub.status.idle": "2024-07-10T09:07:58.765243Z",
     "shell.execute_reply": "2024-07-10T09:07:58.764243Z"
    },
    "papermill": {
     "duration": 2065.264133,
     "end_time": "2024-07-10T09:07:58.776213",
     "exception": false,
     "start_time": "2024-07-10T08:33:33.512080",
     "status": "completed"
    },
    "tags": []
   },
   "outputs": [
    {
     "name": "stdout",
     "output_type": "stream",
     "text": [
      "saving\n",
      "Train: 0.5034022580910149 --------- Test:  0.505808594014533\n",
      "saving\n",
      "Train: 0.6578383560058719 --------- Test:  0.6593541344980676\n",
      "saving\n",
      "Train: 0.734870765878591 --------- Test:  0.7330046801548035\n",
      "saving\n",
      "Train: 0.7949303396852836 --------- Test:  0.7843649733523707\n",
      "saving\n",
      "Train: 0.8325003014558597 --------- Test:  0.8046143510376602\n",
      "saving\n",
      "Train: 0.8685345317337437 --------- Test:  0.8098235468070595\n",
      "Train: 0.8767315621589873 --------- Test:  0.8077532739809036\n",
      "Train: 0.875550553150721 --------- Test:  0.7922052201248239\n",
      "Train: 0.918005394996807 --------- Test:  0.8037152698530705\n",
      "Train: 0.9271521805422666 --------- Test:  0.8025428525438867\n",
      "Train: 0.8823469349315858 --------- Test:  0.7637750563582647\n",
      "Train: 0.9283031605195294 --------- Test:  0.792059055553399\n",
      "Train: 0.9584575392214455 --------- Test:  0.8054413942848766\n",
      "Train: 0.9576853973489589 --------- Test:  0.7959022229234666\n",
      "Train: 0.974970465667434 --------- Test:  0.8022847115663122\n",
      "Train: 0.9473517088532355 --------- Test:  0.7874007006426083\n",
      "Train: 0.9487292226429139 --------- Test:  0.7824885223879873\n",
      "Train: 0.9834109603091621 --------- Test:  0.7968685946382785\n",
      "Train: 0.9842899816821465 --------- Test:  0.8035657402221866\n",
      "Train: 0.9785444759484034 --------- Test:  0.8005722558329627\n",
      "Train: 0.9846945547929598 --------- Test:  0.8039744483582894\n",
      "Train: 0.9793585856140469 --------- Test:  0.8035994029964368\n",
      "Train: 0.9829264506519659 --------- Test:  0.7994825347026879\n",
      "Train: 0.9693118241539184 --------- Test:  0.7903416539816861\n",
      "Train: 0.9187832103987209 --------- Test:  0.7642053646218027\n",
      "Train: 0.9835998569021853 --------- Test:  0.7998894800274287\n",
      "Train: 0.9632747673846915 --------- Test:  0.7761238900538275\n",
      "Train: 0.9865742130614369 --------- Test:  0.7948645263730172\n",
      "Train: 0.9916694349697278 --------- Test:  0.797202162667036\n",
      "Train: 0.992232174711823 --------- Test:  0.7988527795140499\n",
      "Train: 0.9919943528378448 --------- Test:  0.8008309209237481\n",
      "Train: 0.9928152332867927 --------- Test:  0.7969376191951678\n",
      "Train: 0.9927256301282625 --------- Test:  0.7969099744926313\n",
      "Train: 0.9915187528078444 --------- Test:  0.7964385559582143\n",
      "Train: 0.9905572908582718 --------- Test:  0.7958982760839217\n",
      "Train: 0.9907909042930271 --------- Test:  0.7979460800282768\n",
      "Train: 0.9901511136378826 --------- Test:  0.7982758894041108\n",
      "Train: 0.9902916785115448 --------- Test:  0.7961048979309563\n",
      "Train: 0.9895027243015174 --------- Test:  0.7906144769937833\n",
      "Train: 0.9907019038884611 --------- Test:  0.7925805724964393\n",
      "Train: 0.9893517512648634 --------- Test:  0.7904587080874135\n",
      "Train: 0.9888357005156954 --------- Test:  0.7938425340326096\n",
      "Train: 0.9900016199061635 --------- Test:  0.7953209657065478\n",
      "Train: 0.9892361792364773 --------- Test:  0.792654211505748\n",
      "Train: 0.9894764527734043 --------- Test:  0.7953320088742409\n",
      "Train: 0.9803252413040562 --------- Test:  0.785816128017969\n",
      "Train: 0.9846374224610054 --------- Test:  0.7866641851076331\n",
      "Train: 0.967434060388047 --------- Test:  0.7770673750404201\n",
      "Train: 0.9887077520622193 --------- Test:  0.797683604667847\n",
      "Train: 0.9910231639215886 --------- Test:  0.7932247628721707\n",
      "Train: 0.9914386540453591 --------- Test:  0.7954977391145044\n",
      "Train: 0.9902340910815056 --------- Test:  0.7952851821005092\n",
      "Train: 0.9863916399946222 --------- Test:  0.7980032166699721\n",
      "Train: 0.9712451190133898 --------- Test:  0.7732696192592169\n",
      "Train: 0.9914057178424082 --------- Test:  0.7973868557286129\n",
      "Train: 0.9929293115473342 --------- Test:  0.7967374564423462\n",
      "Train: 0.9926035131982159 --------- Test:  0.7985858100005591\n",
      "Train: 0.992399340494473 --------- Test:  0.7981804878387834\n",
      "Train: 0.9921932649907618 --------- Test:  0.7993880283152118\n",
      "Train: 0.985897283397468 --------- Test:  0.7862702173666793\n"
     ]
    }
   ],
   "source": [
    "\n",
    "train_acc = []\n",
    "test_acc = []\n",
    "gen_test_acc = 0\n",
    "gen_train_acc = 0\n",
    "\n",
    "criterion = F.cross_entropy\n",
    "epochs = 60\n",
    "input_size = 300\n",
    "hidden_size = 500\n",
    "sequence_len = 240\n",
    "model = LSTM(input_size, sequence_len, hidden_size).cuda()\n",
    "weight_decay = 1e-5\n",
    "lr = 1e-3\n",
    "\n",
    "optimizer = optim.Adam(model.parameters(), lr, weight_decay=weight_decay)\n",
    "\n",
    "\n",
    "for i in range(epochs):\n",
    "    for (X, y) in train:\n",
    "        X = X.cuda()\n",
    "        y = y.type(torch.LongTensor)   \n",
    "        y = y.cuda()\n",
    "        \n",
    "        optimizer.zero_grad()\n",
    "        forward = model(X)\n",
    "        loss = criterion(forward, y)\n",
    "        loss.backward()\n",
    "        optimizer.step()\n",
    "        \n",
    "    with torch.no_grad():\n",
    "        acc = accuracy(model, test)\n",
    "        avg_test = (sum(acc)/len(acc))\n",
    "        \n",
    "        acc = accuracy(model, train)\n",
    "        avg_train = sum(acc)/len(acc)\n",
    "        \n",
    "        test_acc_max = max(test_acc) if test_acc else 0\n",
    "        \n",
    "        if avg_test > test_acc_max:\n",
    "            print('saving')\n",
    "            saving_model = torch.jit.script(model)\n",
    "            saving_model.save('/kaggle/working/without_best_test_acc_model.pt')\n",
    "            gen_train_acc = avg_train\n",
    "            gen_test_acc = avg_test\n",
    "        \n",
    "        train_acc.append(avg_train)\n",
    "        test_acc.append(avg_test)\n",
    "        \n",
    "        \n",
    "        \n",
    "    print('Train:', train_acc[-1], '---------','Test: ', test_acc[-1])"
   ]
  },
  {
   "cell_type": "code",
   "execution_count": 9,
   "id": "2b114022",
   "metadata": {
    "execution": {
     "iopub.execute_input": "2024-07-10T09:07:58.796094Z",
     "iopub.status.busy": "2024-07-10T09:07:58.795596Z",
     "iopub.status.idle": "2024-07-10T09:07:59.096757Z",
     "shell.execute_reply": "2024-07-10T09:07:59.095882Z"
    },
    "papermill": {
     "duration": 0.313474,
     "end_time": "2024-07-10T09:07:59.098869",
     "exception": false,
     "start_time": "2024-07-10T09:07:58.785395",
     "status": "completed"
    },
    "tags": []
   },
   "outputs": [
    {
     "name": "stdout",
     "output_type": "stream",
     "text": [
      "Test accuracy: 0.8098235468070595 Train accuracy: 0.8685345317337437\n"
     ]
    },
    {
     "data": {
      "image/png": "[encoded data removed]",
      "text/plain": [
       "<Figure size 640x480 with 1 Axes>"
      ]
     },
     "metadata": {},
     "output_type": "display_data"
    }
   ],
   "source": [
    "plt.plot(test_acc, label='test_acc')\n",
    "plt.plot(train_acc, label='train_acc')\n",
    "plt.legend()\n",
    "print('Test accuracy:', gen_test_acc, 'Train accuracy:', gen_train_acc)"
   ]
  },
  {
   "cell_type": "code",
   "execution_count": 10,
   "id": "13813ebb",
   "metadata": {
    "execution": {
     "iopub.execute_input": "2024-07-10T09:07:59.119796Z",
     "iopub.status.busy": "2024-07-10T09:07:59.119499Z",
     "iopub.status.idle": "2024-07-10T09:07:59.803774Z",
     "shell.execute_reply": "2024-07-10T09:07:59.802978Z"
    },
    "papermill": {
     "duration": 0.697101,
     "end_time": "2024-07-10T09:07:59.805969",
     "exception": false,
     "start_time": "2024-07-10T09:07:59.108868",
     "status": "completed"
    },
    "tags": []
   },
   "outputs": [],
   "source": [
    "model = torch.jit.load('saved_model_path')\n",
    "cpu_jit_model = torch.jit.script(model).cpu()\n",
    "cpu_jit_model.save('cpu_new_model')"
   ]
  },
  {
   "cell_type": "code",
   "execution_count": null,
   "id": "14c0ff54",
   "metadata": {
    "execution": {
     "iopub.execute_input": "2024-07-10T08:32:02.360698Z",
     "iopub.status.busy": "2024-07-10T08:32:02.360330Z",
     "iopub.status.idle": "2024-07-10T08:32:02.846709Z",
     "shell.execute_reply": "2024-07-10T08:32:02.845825Z",
     "shell.execute_reply.started": "2024-07-10T08:32:02.360671Z"
    },
    "papermill": {
     "duration": 0.009534,
     "end_time": "2024-07-10T09:07:59.825627",
     "exception": false,
     "start_time": "2024-07-10T09:07:59.816093",
     "status": "completed"
    },
    "tags": []
   },
   "outputs": [],
   "source": []
  },
  {
   "cell_type": "code",
   "execution_count": null,
   "id": "0faea7f9",
   "metadata": {
    "papermill": {
     "duration": 0.009666,
     "end_time": "2024-07-10T09:07:59.844954",
     "exception": false,
     "start_time": "2024-07-10T09:07:59.835288",
     "status": "completed"
    },
    "tags": []
   },
   "outputs": [],
   "source": []
  },
  {
   "cell_type": "code",
   "execution_count": null,
   "id": "df348016",
   "metadata": {
    "papermill": {
     "duration": 0.009468,
     "end_time": "2024-07-10T09:07:59.864034",
     "exception": false,
     "start_time": "2024-07-10T09:07:59.854566",
     "status": "completed"
    },
    "tags": []
   },
   "outputs": [],
   "source": []
  },
  {
   "cell_type": "code",
   "execution_count": null,
   "id": "26ad0598",
   "metadata": {
    "papermill": {
     "duration": 0.009451,
     "end_time": "2024-07-10T09:07:59.883389",
     "exception": false,
     "start_time": "2024-07-10T09:07:59.873938",
     "status": "completed"
    },
    "tags": []
   },
   "outputs": [],
   "source": []
  }
 ],
 "metadata": {
  "kaggle": {
   "accelerator": "gpu",
   "dataSources": [
    {
     "sourceId": 178894425,
     "sourceType": "kernelVersion"
    }
   ],
   "dockerImageVersionId": 30733,
   "isGpuEnabled": true,
   "isInternetEnabled": true,
   "language": "python",
   "sourceType": "notebook"
  },
  "kernelspec": {
   "display_name": "Python 3",
   "language": "python",
   "name": "python3"
  },
  "language_info": {
   "codemirror_mode": {
    "name": "ipython",
    "version": 3
   },
   "file_extension": ".py",
   "mimetype": "text/x-python",
   "name": "python",
   "nbconvert_exporter": "python",
   "pygments_lexer": "ipython3",
   "version": "3.10.13"
  },
  "papermill": {
   "default_parameters": {},
   "duration": 2113.028651,
   "end_time": "2024-07-10T09:08:02.875930",
   "environment_variables": {},
   "exception": null,
   "input_path": "__notebook__.ipynb",
   "output_path": "__notebook__.ipynb",
   "parameters": {},
   "start_time": "2024-07-10T08:32:49.847279",
   "version": "2.5.0"
  }
 },
 "nbformat": 4,
 "nbformat_minor": 5
}
